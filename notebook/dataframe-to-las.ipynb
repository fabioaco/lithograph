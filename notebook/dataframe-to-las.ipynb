{
 "cells": [
  {
   "cell_type": "code",
   "execution_count": 1,
   "metadata": {},
   "outputs": [],
   "source": [
    "import os \n",
    "import sys\n",
    "\n",
    "from glob import glob\n",
    "\n",
    "import lasio\n",
    "import welly \n",
    "\n",
    "import numpy as np\n",
    "import pandas as pd\n",
    "\n",
    "import matplotlib.pyplot as plt"
   ]
  },
  {
   "cell_type": "code",
   "execution_count": 2,
   "metadata": {},
   "outputs": [],
   "source": [
    "sys.path.append(os.path.abspath(\"../scripts/\"))\n",
    "from utils import label2category, scale"
   ]
  },
  {
   "cell_type": "code",
   "execution_count": 2,
   "metadata": {},
   "outputs": [],
   "source": [
    "%matplotlib inline"
   ]
  },
  {
   "cell_type": "markdown",
   "metadata": {},
   "source": [
    "## Data Loading"
   ]
  },
  {
   "cell_type": "code",
   "execution_count": 4,
   "metadata": {},
   "outputs": [
    {
     "data": {
      "text/html": [
       "<div>\n",
       "<style scoped>\n",
       "    .dataframe tbody tr th:only-of-type {\n",
       "        vertical-align: middle;\n",
       "    }\n",
       "\n",
       "    .dataframe tbody tr th {\n",
       "        vertical-align: top;\n",
       "    }\n",
       "\n",
       "    .dataframe thead th {\n",
       "        text-align: right;\n",
       "    }\n",
       "</style>\n",
       "<table border=\"1\" class=\"dataframe\">\n",
       "  <thead>\n",
       "    <tr style=\"text-align: right;\">\n",
       "      <th></th>\n",
       "      <th>UWI</th>\n",
       "      <th>Depth</th>\n",
       "      <th>FACIES</th>\n",
       "      <th>DTC</th>\n",
       "      <th>GR</th>\n",
       "      <th>NPHI</th>\n",
       "      <th>PEF</th>\n",
       "      <th>RESD</th>\n",
       "      <th>RESM</th>\n",
       "      <th>RHOB</th>\n",
       "    </tr>\n",
       "  </thead>\n",
       "  <tbody>\n",
       "    <tr>\n",
       "      <th>0</th>\n",
       "      <td>Pharos 1</td>\n",
       "      <td>4042.105225</td>\n",
       "      <td>2.0</td>\n",
       "      <td>102.089500</td>\n",
       "      <td>90.028061</td>\n",
       "      <td>0.288008</td>\n",
       "      <td>8.560944</td>\n",
       "      <td>0.682324</td>\n",
       "      <td>0.668007</td>\n",
       "      <td>2.512794</td>\n",
       "    </tr>\n",
       "    <tr>\n",
       "      <th>1</th>\n",
       "      <td>Pharos 1</td>\n",
       "      <td>4042.257568</td>\n",
       "      <td>2.0</td>\n",
       "      <td>102.281807</td>\n",
       "      <td>87.814667</td>\n",
       "      <td>0.284249</td>\n",
       "      <td>8.547519</td>\n",
       "      <td>0.699957</td>\n",
       "      <td>0.674942</td>\n",
       "      <td>2.513077</td>\n",
       "    </tr>\n",
       "    <tr>\n",
       "      <th>2</th>\n",
       "      <td>Pharos 1</td>\n",
       "      <td>4042.409912</td>\n",
       "      <td>2.0</td>\n",
       "      <td>102.706596</td>\n",
       "      <td>87.723589</td>\n",
       "      <td>0.284346</td>\n",
       "      <td>8.612375</td>\n",
       "      <td>0.734139</td>\n",
       "      <td>0.677179</td>\n",
       "      <td>2.510985</td>\n",
       "    </tr>\n",
       "    <tr>\n",
       "      <th>3</th>\n",
       "      <td>Pharos 1</td>\n",
       "      <td>4042.562256</td>\n",
       "      <td>2.0</td>\n",
       "      <td>102.774488</td>\n",
       "      <td>90.314507</td>\n",
       "      <td>0.287467</td>\n",
       "      <td>8.730058</td>\n",
       "      <td>0.744323</td>\n",
       "      <td>0.678075</td>\n",
       "      <td>2.506169</td>\n",
       "    </tr>\n",
       "    <tr>\n",
       "      <th>4</th>\n",
       "      <td>Pharos 1</td>\n",
       "      <td>4042.714600</td>\n",
       "      <td>2.0</td>\n",
       "      <td>102.548961</td>\n",
       "      <td>93.046824</td>\n",
       "      <td>0.290088</td>\n",
       "      <td>8.822198</td>\n",
       "      <td>0.689984</td>\n",
       "      <td>0.685729</td>\n",
       "      <td>2.501671</td>\n",
       "    </tr>\n",
       "  </tbody>\n",
       "</table>\n",
       "</div>"
      ],
      "text/plain": [
       "        UWI        Depth  FACIES         DTC         GR      NPHI       PEF  \\\n",
       "0  Pharos 1  4042.105225     2.0  102.089500  90.028061  0.288008  8.560944   \n",
       "1  Pharos 1  4042.257568     2.0  102.281807  87.814667  0.284249  8.547519   \n",
       "2  Pharos 1  4042.409912     2.0  102.706596  87.723589  0.284346  8.612375   \n",
       "3  Pharos 1  4042.562256     2.0  102.774488  90.314507  0.287467  8.730058   \n",
       "4  Pharos 1  4042.714600     2.0  102.548961  93.046824  0.290088  8.822198   \n",
       "\n",
       "       RESD      RESM      RHOB  \n",
       "0  0.682324  0.668007  2.512794  \n",
       "1  0.699957  0.674942  2.513077  \n",
       "2  0.734139  0.677179  2.510985  \n",
       "3  0.744323  0.678075  2.506169  \n",
       "4  0.689984  0.685729  2.501671  "
      ]
     },
     "execution_count": 4,
     "metadata": {},
     "output_type": "execute_result"
    }
   ],
   "source": [
    "fname = os.path.abspath(\"../data/poseidon-all.csv\")\n",
    "df = pd.read_csv(fname)\n",
    "df.drop(columns=[\"Unnamed: 0\"], inplace=True)\n",
    "df.head()"
   ]
  },
  {
   "cell_type": "code",
   "execution_count": 11,
   "metadata": {
    "scrolled": true
   },
   "outputs": [],
   "source": [
    "for i, iw in enumerate(df.UWI.unique()):\n",
    "    l = lasio.LASFile()\n",
    "    \n",
    "    for c in df[df.UWI==iw].columns:\n",
    "        l.add_curve('DEPTH', df[df.UWI==iw][\"Depth\"].values)\n",
    "        l.add_curve(c, df[df.UWI==iw][c].values)\n",
    "        \n",
    "    fname = os.path.abspath(\"../data/poseidon-\"+str(i)+\".las\")\n",
    "    with open(fname, mode=\"w\") as f: \n",
    "        l.write(f)"
   ]
  },
  {
   "cell_type": "code",
   "execution_count": null,
   "metadata": {},
   "outputs": [],
   "source": []
  }
 ],
 "metadata": {
  "kernelspec": {
   "display_name": "Python 3",
   "language": "python",
   "name": "python3"
  },
  "language_info": {
   "codemirror_mode": {
    "name": "ipython",
    "version": 3
   },
   "file_extension": ".py",
   "mimetype": "text/x-python",
   "name": "python",
   "nbconvert_exporter": "python",
   "pygments_lexer": "ipython3",
   "version": "3.7.0"
  }
 },
 "nbformat": 4,
 "nbformat_minor": 2
}
